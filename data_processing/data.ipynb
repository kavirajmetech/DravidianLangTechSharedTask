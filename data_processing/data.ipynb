{
 "cells": [
  {
   "cell_type": "code",
   "execution_count": 8,
   "metadata": {},
   "outputs": [],
   "source": [
    "import pandas as pd \n",
    "import numpy as np \n",
    "import re"
   ]
  },
  {
   "cell_type": "code",
   "execution_count": 24,
   "metadata": {},
   "outputs": [
    {
     "data": {
      "text/html": [
       "<div>\n",
       "<style scoped>\n",
       "    .dataframe tbody tr th:only-of-type {\n",
       "        vertical-align: middle;\n",
       "    }\n",
       "\n",
       "    .dataframe tbody tr th {\n",
       "        vertical-align: top;\n",
       "    }\n",
       "\n",
       "    .dataframe thead th {\n",
       "        text-align: right;\n",
       "    }\n",
       "</style>\n",
       "<table border=\"1\" class=\"dataframe\">\n",
       "  <thead>\n",
       "    <tr style=\"text-align: right;\">\n",
       "      <th></th>\n",
       "      <th>content</th>\n",
       "      <th>labels</th>\n",
       "    </tr>\n",
       "  </thead>\n",
       "  <tbody>\n",
       "    <tr>\n",
       "      <th>0</th>\n",
       "      <td>தென்காசி தொகுதி புதிய தமிழகம் கட்சி வேட்பாளர் ...</td>\n",
       "      <td>Neutral</td>\n",
       "    </tr>\n",
       "    <tr>\n",
       "      <th>1</th>\n",
       "      <td>அண்ணன் இதனை சூசகமாக 11 மாதங்கள் முன்பே பேட்டிய...</td>\n",
       "      <td>Substantiated</td>\n",
       "    </tr>\n",
       "    <tr>\n",
       "      <th>2</th>\n",
       "      <td>ஒரு வருடம் ஆகி விட்டது இந்த துயரம் நேர்ந்து......</td>\n",
       "      <td>Opinionated</td>\n",
       "    </tr>\n",
       "    <tr>\n",
       "      <th>3</th>\n",
       "      <td>எடப்பாடியை கண்டுகொள்ளாத \"எடப்பாடி\"🫢\\n ---\\nஆதர...</td>\n",
       "      <td>Positive</td>\n",
       "    </tr>\n",
       "    <tr>\n",
       "      <th>4</th>\n",
       "      <td>எங்களின் அரசியல் அடுத்த தலைமுறைக்குமானது \\n#மக...</td>\n",
       "      <td>Opinionated</td>\n",
       "    </tr>\n",
       "  </tbody>\n",
       "</table>\n",
       "</div>"
      ],
      "text/plain": [
       "                                             content         labels\n",
       "0  தென்காசி தொகுதி புதிய தமிழகம் கட்சி வேட்பாளர் ...        Neutral\n",
       "1  அண்ணன் இதனை சூசகமாக 11 மாதங்கள் முன்பே பேட்டிய...  Substantiated\n",
       "2  ஒரு வருடம் ஆகி விட்டது இந்த துயரம் நேர்ந்து......    Opinionated\n",
       "3  எடப்பாடியை கண்டுகொள்ளாத \"எடப்பாடி\"🫢\\n ---\\nஆதர...       Positive\n",
       "4  எங்களின் அரசியல் அடுத்த தலைமுறைக்குமானது \\n#மக...    Opinionated"
      ]
     },
     "execution_count": 24,
     "metadata": {},
     "output_type": "execute_result"
    }
   ],
   "source": [
    "data=pd.read_csv(r\"../data\\PS_train.csv\")\n",
    "data.head()"
   ]
  },
  {
   "cell_type": "markdown",
   "metadata": {},
   "source": [
    "dev and train both are same"
   ]
  },
  {
   "cell_type": "code",
   "execution_count": 25,
   "metadata": {},
   "outputs": [
    {
     "name": "stdout",
     "output_type": "stream",
     "text": [
      "தென்காசி தொகுதி புதிய தமிழகம் கட்சி வேட்பாளர் டாக்டர். கிருஷ்ணசாமியை  ஆதரித்து தேமுதிக பொதுச் செயலாளர் பிரேமலதா விஜயகாந்த்  ஸ்ரீவில்லிபுத்தூரில் பிரச்சாரம்.\n",
      "#News18TamilNadu #LokSabaElection2024 \n",
      "அண்ணன் இதனை சூசகமாக 11 மாதங்கள் முன்பே பேட்டியில் சொல்லிட்டார்..!\n",
      "\n",
      "          \n",
      "ஒரு வருடம் ஆகி விட்டது இந்த துயரம் நேர்ந்து... இன்றுவரை ஒரு ஆணியை கூட பிடுங்காத தமிழக அரசு\n",
      "\n",
      "#DMKFailsTN\n",
      "\n",
      "\n",
      "\n",
      "\n",
      "எடப்பாடியை கண்டுகொள்ளாத \"எடப்பாடி\"🫢\n",
      " ---\n",
      "ஆதரிப்பீர் 🌄 உதயசூரியன் 🏴🚩\n",
      "---\n",
      "\n",
      "#மக்களின்குரல் #ஓமலூர் #சேலம் #சேலம்4செல்வகணபதி #Vote4DMK #Vote4INDIA   Stalin #Testimonials QA #சேலம்தெற்கு #சேலம்வடக்கு #எடப்பாடி #சேலம்மேற்கு #Eps #Edappadi #Palanisamy \n",
      "எங்களின் அரசியல் அடுத்த தலைமுறைக்குமானது \n",
      "#மக்களின்_சின்னம்_மைக் \n"
     ]
    }
   ],
   "source": [
    "for i in range(5):\n",
    "    print(data['content'][i])"
   ]
  },
  {
   "cell_type": "code",
   "execution_count": 4,
   "metadata": {},
   "outputs": [
    {
     "data": {
      "text/plain": [
       "array(['Neutral', 'Substantiated', 'Opinionated', 'Positive', 'Sarcastic',\n",
       "       'Negative', 'None of the above'], dtype=object)"
      ]
     },
     "execution_count": 4,
     "metadata": {},
     "output_type": "execute_result"
    }
   ],
   "source": [
    "data['labels'].unique()"
   ]
  },
  {
   "cell_type": "code",
   "execution_count": 5,
   "metadata": {},
   "outputs": [],
   "source": [
    "d={'Neutral':0, 'Substantiated':1, 'Opinionated':2, 'Positive':5, 'Sarcastic':4,\n",
    "       'Negative':-5, 'None of the above':-1}"
   ]
  },
  {
   "cell_type": "code",
   "execution_count": 6,
   "metadata": {},
   "outputs": [],
   "source": [
    "data['labels']=data['labels'].apply(lambda x: d[x])"
   ]
  },
  {
   "cell_type": "code",
   "execution_count": 15,
   "metadata": {},
   "outputs": [
    {
     "ename": "SyntaxError",
     "evalue": "incomplete input (3563051664.py, line 3)",
     "output_type": "error",
     "traceback": [
      "\u001b[1;36m  Cell \u001b[1;32mIn[15], line 3\u001b[1;36m\u001b[0m\n\u001b[1;33m    \u001b[0m\n\u001b[1;37m    ^\u001b[0m\n\u001b[1;31mSyntaxError\u001b[0m\u001b[1;31m:\u001b[0m incomplete input\n"
     ]
    }
   ],
   "source": [
    "def tokenize(text):\n",
    "    \n",
    "    "
   ]
  },
  {
   "cell_type": "code",
   "execution_count": 26,
   "metadata": {},
   "outputs": [],
   "source": [
    "# pip install stanza\n"
   ]
  },
  {
   "cell_type": "code",
   "execution_count": 14,
   "metadata": {},
   "outputs": [
    {
     "name": "stderr",
     "output_type": "stream",
     "text": [
      "c:\\Users\\Vasantha Raj\\AppData\\Local\\Programs\\Python\\Python311\\Lib\\site-packages\\tqdm\\auto.py:21: TqdmWarning: IProgress not found. Please update jupyter and ipywidgets. See https://ipywidgets.readthedocs.io/en/stable/user_install.html\n",
      "  from .autonotebook import tqdm as notebook_tqdm\n",
      "Downloading https://raw.githubusercontent.com/stanfordnlp/stanza-resources/main/resources_1.10.0.json: 421kB [00:00, 54.0MB/s]                    \n",
      "2024-12-25 15:22:48 INFO: Downloaded file to C:\\Users\\Vasantha Raj\\stanza_resources\\resources.json\n",
      "2024-12-25 15:22:48 INFO: Downloading default packages for language: ta (Tamil) ...\n",
      "Downloading https://huggingface.co/stanfordnlp/stanza-ta/resolve/v1.10.0/models/default.zip: 100%|██████████| 377M/377M [10:16<00:00, 611kB/s]    \n",
      "2024-12-25 15:33:06 INFO: Downloaded file to C:\\Users\\Vasantha Raj\\stanza_resources\\ta\\default.zip\n",
      "2024-12-25 15:33:09 INFO: Finished downloading models and saved to C:\\Users\\Vasantha Raj\\stanza_resources\n"
     ]
    }
   ],
   "source": [
    "import stanza\n",
    "stanza.download('ta')"
   ]
  },
  {
   "cell_type": "code",
   "execution_count": 27,
   "metadata": {},
   "outputs": [
    {
     "name": "stderr",
     "output_type": "stream",
     "text": [
      "2024-12-25 15:38:59 INFO: Checking for updates to resources.json in case models have been updated.  Note: this behavior can be turned off with download_method=None or download_method=DownloadMethod.REUSE_RESOURCES\n",
      "Downloading https://raw.githubusercontent.com/stanfordnlp/stanza-resources/main/resources_1.10.0.json: 421kB [00:00, 1.83MB/s]                    \n",
      "2024-12-25 15:39:00 INFO: Downloaded file to C:\\Users\\Vasantha Raj\\stanza_resources\\resources.json\n",
      "2024-12-25 15:39:00 INFO: Loading these models for language: ta (Tamil):\n",
      "============================\n",
      "| Processor | Package      |\n",
      "----------------------------\n",
      "| tokenize  | ttb          |\n",
      "| mwt       | ttb          |\n",
      "| pos       | ttb_nocharlm |\n",
      "| lemma     | ttb_nocharlm |\n",
      "| depparse  | ttb_nocharlm |\n",
      "============================\n",
      "\n",
      "2024-12-25 15:39:00 INFO: Using device: cpu\n",
      "2024-12-25 15:39:00 INFO: Loading: tokenize\n",
      "2024-12-25 15:39:00 INFO: Loading: mwt\n",
      "2024-12-25 15:39:00 INFO: Loading: pos\n",
      "2024-12-25 15:39:02 INFO: Loading: lemma\n",
      "2024-12-25 15:39:02 INFO: Loading: depparse\n",
      "2024-12-25 15:39:02 INFO: Done loading processors!\n"
     ]
    },
    {
     "name": "stdout",
     "output_type": "stream",
     "text": [
      "Sentence: தென்காசி தொகுதி புதிய தமிழகம் கட்சி வேட்பாளர் டாக்டர்.\n",
      "Word: தென்காசி\n",
      " - Tokenized: தென்காசி\n",
      " - Lemma: தென்காசி\n",
      " - POS: PROPN\n",
      " - Dependency Relation: nmod\n",
      "Word: தொகுதி\n",
      " - Tokenized: தொகுதி\n",
      " - Lemma: தொகுதி\n",
      " - POS: NOUN\n",
      " - Dependency Relation: nmod\n",
      "Word: புதிய\n",
      " - Tokenized: புதிய\n",
      " - Lemma: புதிய\n",
      " - POS: ADJ\n",
      " - Dependency Relation: amod\n",
      "Word: தமிழகம்\n",
      " - Tokenized: தமிழகம்\n",
      " - Lemma: தமிழகம்\n",
      " - POS: PROPN\n",
      " - Dependency Relation: nmod\n",
      "Word: கட்சி\n",
      " - Tokenized: கட்சி\n",
      " - Lemma: கட்சி\n",
      " - POS: NOUN\n",
      " - Dependency Relation: nmod\n",
      "Word: வேட்பாளர்\n",
      " - Tokenized: வேட்பாளர்\n",
      " - Lemma: வேட்பாளர்\n",
      " - POS: NOUN\n",
      " - Dependency Relation: root\n",
      "Word: டாக்டர்\n",
      " - Tokenized: டாக்டர்\n",
      " - Lemma: டாக்டர்\n",
      " - POS: PROPN\n",
      " - Dependency Relation: nsubj\n",
      "Word: .\n",
      " - Tokenized: .\n",
      " - Lemma: .\n",
      " - POS: PUNCT\n",
      " - Dependency Relation: punct\n",
      "Sentence: கிருஷ்ணசாமியை  ஆதரித்து தேமுதிக பொதுச் செயலாளர் பிரேமலதா விஜயகாந்த்  ஸ்ரீவில்லிபுத்தூரில் பிரச்சாரம்.\n",
      "Word: கிருஷ்ணசாமியை\n",
      " - Tokenized: கிருஷ்ணசாமியை\n",
      " - Lemma: கிருஷ்ணசாமி\n",
      " - POS: PROPN\n",
      " - Dependency Relation: obj\n",
      "Word: ஆதரித்து\n",
      " - Tokenized: ஆதரித்து\n",
      " - Lemma: ஆதரி\n",
      " - POS: VERB\n",
      " - Dependency Relation: advcl\n",
      "Word: தேமுதிக\n",
      " - Tokenized: தேமுதிக\n",
      " - Lemma: தேமுதிக\n",
      " - POS: PROPN\n",
      " - Dependency Relation: nmod\n",
      "Word: பொதுச்\n",
      " - Tokenized: பொதுச்\n",
      " - Lemma: பொது\n",
      " - POS: NOUN\n",
      " - Dependency Relation: nmod\n",
      "Word: செயலாளர்\n",
      " - Tokenized: செயலாளர்\n",
      " - Lemma: செயலாளர்\n",
      " - POS: NOUN\n",
      " - Dependency Relation: nmod\n",
      "Word: பிரேமலதா\n",
      " - Tokenized: பிரேமலதா\n",
      " - Lemma: பிரேமலதா\n",
      " - POS: PROPN\n",
      " - Dependency Relation: nmod\n",
      "Word: விஜயகாந்த்\n",
      " - Tokenized: விஜயகாந்த்\n",
      " - Lemma: விஜயகாந்த்\n",
      " - POS: PROPN\n",
      " - Dependency Relation: nsubj\n",
      "Word: ஸ்ரீவில்லிபுத்தூரில்\n",
      " - Tokenized: ஸ்ரீவில்லிபுத்தூரில்\n",
      " - Lemma: ஸ்ரீவில்லிபுத்தூ்\n",
      " - POS: PROPN\n",
      " - Dependency Relation: obl\n",
      "Word: பிரச்சாரம்\n",
      " - Tokenized: பிரச்சாரம்\n",
      " - Lemma: பிரச்சாரம்\n",
      " - POS: NOUN\n",
      " - Dependency Relation: root\n",
      "Word: .\n",
      " - Tokenized: .\n",
      " - Lemma: .\n",
      " - POS: PUNCT\n",
      " - Dependency Relation: punct\n",
      "Sentence: #News18TamilNadu #LokSabaElection2024 \n",
      "அண்ணன் இதனை சூசகமாக 11 மாதங்கள் முன்பே பேட்டியில் சொல்லிட்டார்.\n",
      "Word: #New\n",
      " - Tokenized: #New\n",
      " - Lemma: #New\n",
      " - POS: PROPN\n",
      " - Dependency Relation: nmod\n",
      "Word: s18TamilNadu\n",
      " - Tokenized: s18TamilNadu\n",
      " - Lemma: s18TamilNadu\n",
      " - POS: PROPN\n",
      " - Dependency Relation: nmod\n",
      "Word: #LokSabaElection2024\n",
      " - Tokenized: #LokSabaElection2024\n",
      " - Lemma: #LokSabaElection2024\n",
      " - POS: PROPN\n",
      " - Dependency Relation: nsubj\n",
      "Word: அண்ணன்\n",
      " - Tokenized: அண்ணன்\n",
      " - Lemma: அண்ணன்\n",
      " - POS: PROPN\n",
      " - Dependency Relation: nmod\n",
      "Word: இதனை\n",
      " - Tokenized: இதனை\n",
      " - Lemma: இது\n",
      " - POS: PRON\n",
      " - Dependency Relation: obj\n",
      "Word: சூசகமாக\n",
      " - Tokenized: சூசகமாக\n",
      " - Lemma: சூசகம்\n",
      " - POS: ADV\n",
      " - Dependency Relation: advmod\n",
      "Word: 11\n",
      " - Tokenized: 11\n",
      " - Lemma: 11\n",
      " - POS: NUM\n",
      " - Dependency Relation: nummod\n",
      "Word: மாதங்கள்\n",
      " - Tokenized: மாதங்கள்\n",
      " - Lemma: மாதம்\n",
      " - POS: NOUN\n",
      " - Dependency Relation: obl\n",
      "Word: முன்பே\n",
      " - Tokenized: முன்பே\n",
      " - Lemma: முன்பே\n",
      " - POS: ADP\n",
      " - Dependency Relation: case\n",
      "Word: பேட்டியில்\n",
      " - Tokenized: பேட்டியில்\n",
      " - Lemma: பேட்டி\n",
      " - POS: NOUN\n",
      " - Dependency Relation: obl\n",
      "Word: சொல்லிட்டார்\n",
      " - Tokenized: சொல்லிட்டார்\n",
      " - Lemma: சொல்லிடு\n",
      " - POS: VERB\n",
      " - Dependency Relation: root\n",
      "Word: .\n",
      " - Tokenized: .\n",
      " - Lemma: .\n",
      " - POS: PUNCT\n",
      " - Dependency Relation: punct\n",
      "Sentence: .\n",
      "Word: .\n",
      " - Tokenized: .\n",
      " - Lemma: .\n",
      " - POS: PUNCT\n",
      " - Dependency Relation: root\n",
      "Sentence: !\n",
      "Word: !\n",
      " - Tokenized: !\n",
      " - Lemma: !\n",
      " - POS: VERB\n",
      " - Dependency Relation: root\n"
     ]
    }
   ],
   "source": [
    "import stanza\n",
    "nlp = stanza.Pipeline('ta')\n",
    "\n",
    "query = \"\"\"தென்காசி தொகுதி புதிய தமிழகம் கட்சி வேட்பாளர் டாக்டர். கிருஷ்ணசாமியை  ஆதரித்து தேமுதிக பொதுச் செயலாளர் பிரேமலதா விஜயகாந்த்  ஸ்ரீவில்லிபுத்தூரில் பிரச்சாரம்.\n",
    "#News18TamilNadu #LokSabaElection2024 \n",
    "அண்ணன் இதனை சூசகமாக 11 மாதங்கள் முன்பே பேட்டியில் சொல்லிட்டார்..!\"\"\"\n",
    "\n",
    "doc = nlp(query)\n",
    "\n",
    "for sentence in doc.sentences:\n",
    "    print(\"Sentence:\", sentence.text)\n",
    "    for word in sentence.words:\n",
    "        print(f\"Word: {word.text}\")\n",
    "        print(f\" - Tokenized: {word.text}\")\n",
    "        print(f\" - Lemma: {word.lemma}\")\n",
    "        print(f\" - POS: {word.upos}\")\n",
    "        print(f\" - Dependency Relation: {word.deprel}\")\n"
   ]
  }
 ],
 "metadata": {
  "kernelspec": {
   "display_name": "Python 3",
   "language": "python",
   "name": "python3"
  },
  "language_info": {
   "codemirror_mode": {
    "name": "ipython",
    "version": 3
   },
   "file_extension": ".py",
   "mimetype": "text/x-python",
   "name": "python",
   "nbconvert_exporter": "python",
   "pygments_lexer": "ipython3",
   "version": "3.11.4"
  }
 },
 "nbformat": 4,
 "nbformat_minor": 2
}
